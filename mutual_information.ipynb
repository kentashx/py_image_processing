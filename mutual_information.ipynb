{
 "cells": [
  {
   "cell_type": "code",
   "execution_count": 1,
   "metadata": {},
   "outputs": [],
   "source": [
    "import cv2\n",
    "import numpy as np\n",
    "import math"
   ]
  },
  {
   "cell_type": "code",
   "execution_count": 2,
   "metadata": {},
   "outputs": [],
   "source": [
    "def mutual_info(img1_path,img2_path):\n",
    "    #画像１の読み込みと基本情報読み込み\n",
    "    img1 = cv2.imread(img1_path)\n",
    "    g_img1 = cv2.cvtColor(img1, cv2.COLOR_RGB2GRAY)\n",
    "    width_1 = g_img1.shape[0]\n",
    "    height_1 = g_img1.shape[1]\n",
    "    #画像２の読み込みと基本情報読み込み\n",
    "    img2 = cv2.imread(img2_path)\n",
    "    g_img2 = cv2.cvtColor(img2, cv2.COLOR_RGB2GRAY)\n",
    "    width_2 = g_img2.shape[0]\n",
    "    height_2 = g_img2.shape[1]\n",
    "    #画像サイズの調整\n",
    "    if width_1 < width_2:\n",
    "        width = width_1\n",
    "    else:\n",
    "        width = width_2\n",
    "    if height_1 < height_2:\n",
    "        height = height_1\n",
    "    else:\n",
    "        height = height_2\n",
    "    g_img1 = g_img1[:width,:height]\n",
    "    g_img2 = g_img2[:width,:height]\n",
    "    total = width*height\n",
    "    #読み込み画像の表示\n",
    "    cv2.imshow(\"image1\", g_img1)\n",
    "    cv2.imshow(\"image2\", g_img2)\n",
    "    cv2.waitKey(0)\n",
    "    cv2.destroyAllWindows()\n",
    "    #1次元ヒストグラム作成\n",
    "    hist1, bins1 = np.histogram(g_img1.ravel(),256,[0,256])\n",
    "    hist2, bins2 = np.histogram(g_img2.ravel(),256,[0,256])\n",
    "    #２次元ヒストグラム作成\n",
    "    hist12 = np.zeros((256,256))\n",
    "    for i in range(width):\n",
    "        for j in range(height):\n",
    "            hist12[g_img1[i][j]][g_img2[i][j]] = hist12[g_img1[i][j]][g_img2[i][j]] + 1\n",
    "    #周辺確率分布\n",
    "    p1 = np.zeros(256)\n",
    "    p2 = np.zeros(256)\n",
    "    p1 = hist1/total\n",
    "    p2 = hist2/total\n",
    "    #同時確立分布\n",
    "    p12 = np.zeros((256,256))\n",
    "    p12 = hist12/total\n",
    "    if (round(p1.sum(),3)!= 1) or (round(p2.sum(),3)!= 1) or (round(p12.sum(),3)!= 1):\n",
    "        print(\"エラー\")\n",
    "    else:\n",
    "        print(\"正常に動いています\")\n",
    "    #相互情報量計算\n",
    "    Information = 0\n",
    "    temp = 0\n",
    "    for i in range(255):\n",
    "        for j in range(255):\n",
    "            if (p1[i]*p2[j] !=0) and (p12[i][j] !=0):\n",
    "                temp = p12[i][j]*(math.log(p12[i][j]/(p1[i]*p2[j])))\n",
    "                Information = Information +temp\n",
    "    print(\"相互情報量は{0:.5f}\".format(Information))"
   ]
  },
  {
   "cell_type": "code",
   "execution_count": 3,
   "metadata": {},
   "outputs": [
    {
     "name": "stdout",
     "output_type": "stream",
     "text": [
      "正常に動いています\n",
      "相互情報量は0.89186\n"
     ]
    }
   ],
   "source": [
    "mutual_info(\"sift_135_2_VFSS.png\",\"sift_135_1_VFSS.png\")"
   ]
  },
  {
   "cell_type": "code",
   "execution_count": null,
   "metadata": {},
   "outputs": [],
   "source": []
  }
 ],
 "metadata": {
  "kernelspec": {
   "display_name": "Python 3",
   "language": "python",
   "name": "python3"
  },
  "language_info": {
   "codemirror_mode": {
    "name": "ipython",
    "version": 3
   },
   "file_extension": ".py",
   "mimetype": "text/x-python",
   "name": "python",
   "nbconvert_exporter": "python",
   "pygments_lexer": "ipython3",
   "version": "3.6.4"
  }
 },
 "nbformat": 4,
 "nbformat_minor": 2
}
